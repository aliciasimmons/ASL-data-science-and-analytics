{
  "nbformat": 4,
  "nbformat_minor": 0,
  "metadata": {
    "colab": {
      "provenance": [],
      "collapsed_sections": [],
      "include_colab_link": true
    },
    "kernelspec": {
      "name": "python3",
      "display_name": "Python 3"
    },
    "language_info": {
      "name": "python"
    }
  },
  "cells": [
    {
      "cell_type": "markdown",
      "metadata": {
        "id": "view-in-github",
        "colab_type": "text"
      },
      "source": [
        "<a href=\"https://colab.research.google.com/github/aliciasimmons/ASL-data-science-and-analytics/blob/main/Copy_of_11_3_1_Activity.ipynb\" target=\"_parent\"><img src=\"https://colab.research.google.com/assets/colab-badge.svg\" alt=\"Open In Colab\"/></a>"
      ]
    },
    {
      "cell_type": "markdown",
      "metadata": {
        "id": "jtDfDnucNFhM"
      },
      "source": [
        "#Lesson 11.3.1 Activity\n",
        "\n",
        "##Breast cancer detection\n",
        "\n",
        "###According to the American Cancer Society:\n",
        "\n",
        "Breast cancer  is the most common cancer in American women other than skin cancers. The average risk of a woman in the United States developing breast cancer sometime in her life is about 13%. This means there is a one in eight chance that she will develop breast cancer.\n",
        "\n",
        "Mammograms are used to detect breast cancer—hopefully at an early stage. However, many masses that appear on a mammogram are not actually cancer. Developing a machine learning model to predict whether a tumor is benign or cancerous would be helpful for physicians as they guide and treat patients.\n",
        "\n",
        "In this activity we will build our first logistic regression model to classify tumors as benign or malignant based on their perimeter mean.\n",
        "\n"
      ]
    },
    {
      "cell_type": "markdown",
      "metadata": {
        "id": "YVDbdDBDQVoS"
      },
      "source": [
        "#Step 1: Download and save the `cancer.csv` dataset from the class materials.  \n",
        "\n",
        "* Make a note of where you saved the file on your computer."
      ]
    },
    {
      "cell_type": "markdown",
      "metadata": {
        "id": "63UbfVKeQfsl"
      },
      "source": [
        "#Step 2: Upload the `cancer.csv` dataset by running the following code block. \n",
        "\n",
        "* When prompted, navigate to and select the `cancer.csv` dataset from where you saved it on your computer."
      ]
    },
    {
      "cell_type": "code",
      "metadata": {
        "id": "bxSC_MgQQUis"
      },
      "source": [
        "#Step 2\n",
        "\n",
        "from google.colab import files\n",
        "cancer = files.upload()"
      ],
      "execution_count": null,
      "outputs": []
    },
    {
      "cell_type": "markdown",
      "metadata": {
        "id": "6mQ3_VhcR1WN"
      },
      "source": [
        "#Step 3: Import necessary packages.\n",
        "\n",
        "```\n",
        "* import pandas as pd\n",
        "* import seaborn as sns\n",
        "* from sklearn.model_selection import train_test_split\n",
        "* from sklearn.linear_model import LinearRegression\n",
        "* from sklearn.metrics import r2_score, mean_squared_error as MSE\n",
        "* from sklearn.linear_model import LogisticRegression\n",
        "\n",
        "```"
      ]
    },
    {
      "cell_type": "code",
      "metadata": {
        "id": "oGQsWu2bRpp6"
      },
      "source": [
        "#Step 3\n",
        "import pandas as pd\n",
        "import seaborn as sns\n",
        "from sklearn.model_selection import train_test_split\n",
        "from sklearn.linear_model import LinearRegression\n",
        "from sklearn.metrics import r2_score, mean_squared_error as MSE\n",
        "from sklearn.linear_model import LogisticRegression\n",
        "import numpy as np\n",
        "import matplotlib.pyplot as plt\n"
      ],
      "execution_count": 1,
      "outputs": []
    },
    {
      "cell_type": "markdown",
      "metadata": {
        "id": "N3aT3Y28TLRX"
      },
      "source": [
        "# Step 4: Create a Pandas DataFrame from the CSV file.\n",
        "* Name the DataFrame `cancer`.\n",
        "* Print the first five observations of `cancer`.  Note the kinds of data it contains."
      ]
    },
    {
      "cell_type": "code",
      "metadata": {
        "id": "zR3wX0-OTach",
        "colab": {
          "base_uri": "https://localhost:8080/",
          "height": 287
        },
        "outputId": "42f898b0-c398-4c84-c253-d40f04d8c6ff"
      },
      "source": [
        "#Step 4\n",
        "cancer = pd.read_csv('cancer.csv')\n",
        "\n",
        "cancer.head(5)\n"
      ],
      "execution_count": 2,
      "outputs": [
        {
          "output_type": "execute_result",
          "data": {
            "text/plain": [
              "         id diagnosis  radius_mean  texture_mean  perimeter_mean  area_mean  \\\n",
              "0    842302         M        17.99         10.38          122.80     1001.0   \n",
              "1    842517         M        20.57         17.77          132.90     1326.0   \n",
              "2  84300903         M        19.69         21.25          130.00     1203.0   \n",
              "3  84348301         M        11.42         20.38           77.58      386.1   \n",
              "4  84358402         M        20.29         14.34          135.10     1297.0   \n",
              "\n",
              "   smoothness_mean  compactness_mean  concavity_mean  concave points_mean  \\\n",
              "0          0.11840           0.27760          0.3001              0.14710   \n",
              "1          0.08474           0.07864          0.0869              0.07017   \n",
              "2          0.10960           0.15990          0.1974              0.12790   \n",
              "3          0.14250           0.28390          0.2414              0.10520   \n",
              "4          0.10030           0.13280          0.1980              0.10430   \n",
              "\n",
              "   symmetry_mean  fractal_dimension_mean  \n",
              "0         0.2419                 0.07871  \n",
              "1         0.1812                 0.05667  \n",
              "2         0.2069                 0.05999  \n",
              "3         0.2597                 0.09744  \n",
              "4         0.1809                 0.05883  "
            ],
            "text/html": [
              "\n",
              "  <div id=\"df-c4351417-ff42-49f1-9fbe-c38a9fc5a2d3\">\n",
              "    <div class=\"colab-df-container\">\n",
              "      <div>\n",
              "<style scoped>\n",
              "    .dataframe tbody tr th:only-of-type {\n",
              "        vertical-align: middle;\n",
              "    }\n",
              "\n",
              "    .dataframe tbody tr th {\n",
              "        vertical-align: top;\n",
              "    }\n",
              "\n",
              "    .dataframe thead th {\n",
              "        text-align: right;\n",
              "    }\n",
              "</style>\n",
              "<table border=\"1\" class=\"dataframe\">\n",
              "  <thead>\n",
              "    <tr style=\"text-align: right;\">\n",
              "      <th></th>\n",
              "      <th>id</th>\n",
              "      <th>diagnosis</th>\n",
              "      <th>radius_mean</th>\n",
              "      <th>texture_mean</th>\n",
              "      <th>perimeter_mean</th>\n",
              "      <th>area_mean</th>\n",
              "      <th>smoothness_mean</th>\n",
              "      <th>compactness_mean</th>\n",
              "      <th>concavity_mean</th>\n",
              "      <th>concave points_mean</th>\n",
              "      <th>symmetry_mean</th>\n",
              "      <th>fractal_dimension_mean</th>\n",
              "    </tr>\n",
              "  </thead>\n",
              "  <tbody>\n",
              "    <tr>\n",
              "      <th>0</th>\n",
              "      <td>842302</td>\n",
              "      <td>M</td>\n",
              "      <td>17.99</td>\n",
              "      <td>10.38</td>\n",
              "      <td>122.80</td>\n",
              "      <td>1001.0</td>\n",
              "      <td>0.11840</td>\n",
              "      <td>0.27760</td>\n",
              "      <td>0.3001</td>\n",
              "      <td>0.14710</td>\n",
              "      <td>0.2419</td>\n",
              "      <td>0.07871</td>\n",
              "    </tr>\n",
              "    <tr>\n",
              "      <th>1</th>\n",
              "      <td>842517</td>\n",
              "      <td>M</td>\n",
              "      <td>20.57</td>\n",
              "      <td>17.77</td>\n",
              "      <td>132.90</td>\n",
              "      <td>1326.0</td>\n",
              "      <td>0.08474</td>\n",
              "      <td>0.07864</td>\n",
              "      <td>0.0869</td>\n",
              "      <td>0.07017</td>\n",
              "      <td>0.1812</td>\n",
              "      <td>0.05667</td>\n",
              "    </tr>\n",
              "    <tr>\n",
              "      <th>2</th>\n",
              "      <td>84300903</td>\n",
              "      <td>M</td>\n",
              "      <td>19.69</td>\n",
              "      <td>21.25</td>\n",
              "      <td>130.00</td>\n",
              "      <td>1203.0</td>\n",
              "      <td>0.10960</td>\n",
              "      <td>0.15990</td>\n",
              "      <td>0.1974</td>\n",
              "      <td>0.12790</td>\n",
              "      <td>0.2069</td>\n",
              "      <td>0.05999</td>\n",
              "    </tr>\n",
              "    <tr>\n",
              "      <th>3</th>\n",
              "      <td>84348301</td>\n",
              "      <td>M</td>\n",
              "      <td>11.42</td>\n",
              "      <td>20.38</td>\n",
              "      <td>77.58</td>\n",
              "      <td>386.1</td>\n",
              "      <td>0.14250</td>\n",
              "      <td>0.28390</td>\n",
              "      <td>0.2414</td>\n",
              "      <td>0.10520</td>\n",
              "      <td>0.2597</td>\n",
              "      <td>0.09744</td>\n",
              "    </tr>\n",
              "    <tr>\n",
              "      <th>4</th>\n",
              "      <td>84358402</td>\n",
              "      <td>M</td>\n",
              "      <td>20.29</td>\n",
              "      <td>14.34</td>\n",
              "      <td>135.10</td>\n",
              "      <td>1297.0</td>\n",
              "      <td>0.10030</td>\n",
              "      <td>0.13280</td>\n",
              "      <td>0.1980</td>\n",
              "      <td>0.10430</td>\n",
              "      <td>0.1809</td>\n",
              "      <td>0.05883</td>\n",
              "    </tr>\n",
              "  </tbody>\n",
              "</table>\n",
              "</div>\n",
              "      <button class=\"colab-df-convert\" onclick=\"convertToInteractive('df-c4351417-ff42-49f1-9fbe-c38a9fc5a2d3')\"\n",
              "              title=\"Convert this dataframe to an interactive table.\"\n",
              "              style=\"display:none;\">\n",
              "        \n",
              "  <svg xmlns=\"http://www.w3.org/2000/svg\" height=\"24px\"viewBox=\"0 0 24 24\"\n",
              "       width=\"24px\">\n",
              "    <path d=\"M0 0h24v24H0V0z\" fill=\"none\"/>\n",
              "    <path d=\"M18.56 5.44l.94 2.06.94-2.06 2.06-.94-2.06-.94-.94-2.06-.94 2.06-2.06.94zm-11 1L8.5 8.5l.94-2.06 2.06-.94-2.06-.94L8.5 2.5l-.94 2.06-2.06.94zm10 10l.94 2.06.94-2.06 2.06-.94-2.06-.94-.94-2.06-.94 2.06-2.06.94z\"/><path d=\"M17.41 7.96l-1.37-1.37c-.4-.4-.92-.59-1.43-.59-.52 0-1.04.2-1.43.59L10.3 9.45l-7.72 7.72c-.78.78-.78 2.05 0 2.83L4 21.41c.39.39.9.59 1.41.59.51 0 1.02-.2 1.41-.59l7.78-7.78 2.81-2.81c.8-.78.8-2.07 0-2.86zM5.41 20L4 18.59l7.72-7.72 1.47 1.35L5.41 20z\"/>\n",
              "  </svg>\n",
              "      </button>\n",
              "      \n",
              "  <style>\n",
              "    .colab-df-container {\n",
              "      display:flex;\n",
              "      flex-wrap:wrap;\n",
              "      gap: 12px;\n",
              "    }\n",
              "\n",
              "    .colab-df-convert {\n",
              "      background-color: #E8F0FE;\n",
              "      border: none;\n",
              "      border-radius: 50%;\n",
              "      cursor: pointer;\n",
              "      display: none;\n",
              "      fill: #1967D2;\n",
              "      height: 32px;\n",
              "      padding: 0 0 0 0;\n",
              "      width: 32px;\n",
              "    }\n",
              "\n",
              "    .colab-df-convert:hover {\n",
              "      background-color: #E2EBFA;\n",
              "      box-shadow: 0px 1px 2px rgba(60, 64, 67, 0.3), 0px 1px 3px 1px rgba(60, 64, 67, 0.15);\n",
              "      fill: #174EA6;\n",
              "    }\n",
              "\n",
              "    [theme=dark] .colab-df-convert {\n",
              "      background-color: #3B4455;\n",
              "      fill: #D2E3FC;\n",
              "    }\n",
              "\n",
              "    [theme=dark] .colab-df-convert:hover {\n",
              "      background-color: #434B5C;\n",
              "      box-shadow: 0px 1px 3px 1px rgba(0, 0, 0, 0.15);\n",
              "      filter: drop-shadow(0px 1px 2px rgba(0, 0, 0, 0.3));\n",
              "      fill: #FFFFFF;\n",
              "    }\n",
              "  </style>\n",
              "\n",
              "      <script>\n",
              "        const buttonEl =\n",
              "          document.querySelector('#df-c4351417-ff42-49f1-9fbe-c38a9fc5a2d3 button.colab-df-convert');\n",
              "        buttonEl.style.display =\n",
              "          google.colab.kernel.accessAllowed ? 'block' : 'none';\n",
              "\n",
              "        async function convertToInteractive(key) {\n",
              "          const element = document.querySelector('#df-c4351417-ff42-49f1-9fbe-c38a9fc5a2d3');\n",
              "          const dataTable =\n",
              "            await google.colab.kernel.invokeFunction('convertToInteractive',\n",
              "                                                     [key], {});\n",
              "          if (!dataTable) return;\n",
              "\n",
              "          const docLinkHtml = 'Like what you see? Visit the ' +\n",
              "            '<a target=\"_blank\" href=https://colab.research.google.com/notebooks/data_table.ipynb>data table notebook</a>'\n",
              "            + ' to learn more about interactive tables.';\n",
              "          element.innerHTML = '';\n",
              "          dataTable['output_type'] = 'display_data';\n",
              "          await google.colab.output.renderOutput(dataTable, element);\n",
              "          const docLink = document.createElement('div');\n",
              "          docLink.innerHTML = docLinkHtml;\n",
              "          element.appendChild(docLink);\n",
              "        }\n",
              "      </script>\n",
              "    </div>\n",
              "  </div>\n",
              "  "
            ]
          },
          "metadata": {},
          "execution_count": 2
        }
      ]
    },
    {
      "cell_type": "markdown",
      "metadata": {
        "id": "cqyJYeriSVor"
      },
      "source": [
        "#Step 5: Print the shape of `cancer`. \n",
        "* How many individuals were measured as part of the study?"
      ]
    },
    {
      "cell_type": "code",
      "metadata": {
        "id": "PsAEJR9nLSiv",
        "colab": {
          "base_uri": "https://localhost:8080/"
        },
        "outputId": "a07bb289-1b90-491b-b39f-db408aa6d830"
      },
      "source": [
        "#Step 5\n",
        "print(cancer.shape)\n",
        "\n"
      ],
      "execution_count": 3,
      "outputs": [
        {
          "output_type": "stream",
          "name": "stdout",
          "text": [
            "(569, 12)\n"
          ]
        }
      ]
    },
    {
      "cell_type": "markdown",
      "metadata": {
        "id": "-LxSihCXWC8G"
      },
      "source": [
        "#Step 5: \n",
        "\n",
        "Answer: "
      ]
    },
    {
      "cell_type": "markdown",
      "metadata": {
        "id": "jE33Y8Zwroo5"
      },
      "source": [
        "#Step 6: Convert the variable `Diagnosis` into a numeric data type.  \n",
        "* There are many way to accomplish this, but you may choose to work with the example shown below.  \n",
        "\n",
        "```\n",
        "cancer.loc[cancer['diagnosis'] == 'M', 'cancer_present'] = 1\n",
        "cancer.loc[cancer['diagnosis'] == 'B', 'cancer_present'] = 0\n",
        "\n",
        "```\n",
        "* Name the result `cancer_present` and code malignant tumors with a `1` and benign tumors with a `0`.\n",
        "\n",
        "\n",
        "\n",
        "\n"
      ]
    },
    {
      "cell_type": "code",
      "metadata": {
        "id": "5gX5awwUqv3n"
      },
      "source": [
        "#Step 6\n",
        "cancer.loc[cancer['diagnosis'] == 'M', 'cancer_present'] = 1\n",
        "cancer.loc[cancer['diagnosis'] == 'B', 'cancer_present'] = 0\n"
      ],
      "execution_count": 4,
      "outputs": []
    },
    {
      "cell_type": "markdown",
      "metadata": {
        "id": "H0-xk4qvtTEJ"
      },
      "source": [
        "#Step 7: Use Seaborn (or another plotting library of your choice) to plot the relationship between `perimeter_mean` and `cancer_present`.\n",
        "* Plot `perimeter_mean` on the x-axis and `cancer_present` on the y-axis.\n",
        "* You may use the following template if you are creating your graph using Seaborn:\n",
        "\n",
        "```\n",
        "sns.lmplot(x-variable, y-variable, data=dataset)\n",
        "\n",
        "```\n",
        "* Does the model seem to fit the data well?\n",
        "\n",
        "\n",
        "\n"
      ]
    },
    {
      "cell_type": "code",
      "metadata": {
        "id": "gz2diNBXt7I7"
      },
      "source": [
        "#Step 7\n",
        "y = cancer['cancer_present']\n",
        "X = cancer[['perimeter_mean']]"
      ],
      "execution_count": 5,
      "outputs": []
    },
    {
      "cell_type": "code",
      "source": [
        "plt.scatter(X['perimeter_mean'].values,y.values, s=3)"
      ],
      "metadata": {
        "colab": {
          "base_uri": "https://localhost:8080/",
          "height": 282
        },
        "id": "kQYV8VZLWA2O",
        "outputId": "98e1c511-0cfe-4352-8a1c-405d17c4936a"
      },
      "execution_count": 11,
      "outputs": [
        {
          "output_type": "execute_result",
          "data": {
            "text/plain": [
              "<matplotlib.collections.PathCollection at 0x7ff039244c10>"
            ]
          },
          "metadata": {},
          "execution_count": 11
        },
        {
          "output_type": "display_data",
          "data": {
            "text/plain": [
              "<Figure size 432x288 with 1 Axes>"
            ],
            "image/png": "[encoded data removed]"
          },
          "metadata": {
            "needs_background": "light"
          }
        }
      ]
    },
    {
      "cell_type": "markdown",
      "metadata": {
        "id": "3KfAO7WXvhfq"
      },
      "source": [
        "#Step 7\n",
        "\n",
        "Answer: "
      ]
    },
    {
      "cell_type": "markdown",
      "metadata": {
        "id": "TvTdR9XSIFgv"
      },
      "source": [
        "#Step 8: Split the data into the target variable and the feature of interest.\n",
        "* We want to predict whether a tumor is benign or malignant (`cancer_present`) using the mean tumor perimeter measure (`perimeter_mean`).\n",
        "* Select the column `perimenter_mean` from the cancer DataFrame and name the resulting DataFrame X.\n",
        "Select the column `cancer_present` from the cancer DataFrame and name it y. Make sure y is also a DataFrame and not a Series."
      ]
    },
    {
      "cell_type": "code",
      "metadata": {
        "id": "hg3a0vlgvnCo"
      },
      "source": [
        "#Step 8\n"
      ],
      "execution_count": null,
      "outputs": []
    },
    {
      "cell_type": "markdown",
      "metadata": {
        "id": "tBgXFLgtaPCp"
      },
      "source": [
        "#Step 9: Split the data into a training/validation dataset and a test dataset.\n",
        "* Use `train_test_split` from `sklearn.model_selection`.\n",
        "* Name the X training/validation set `X_train_val` and the y training/validation set `y_train_val`.\n",
        "* Name the X test set `X_test` and the y test set `y_test`.\n",
        "* Set the `test_size = 0.25` and `random_state = 42`. \n",
        "\n",
        "\n",
        "\n",
        "\n"
      ]
    },
    {
      "cell_type": "code",
      "metadata": {
        "id": "MYkE7EfObPDT"
      },
      "source": [
        "#Step 9\n",
        "X_train_val, X_test, y_train_val,y_test =train_test_split(X, y, test_size = 0.25, random_state = 42  )\n"
      ],
      "execution_count": 6,
      "outputs": []
    },
    {
      "cell_type": "markdown",
      "metadata": {
        "id": "1Uqp_gpDZjyX"
      },
      "source": [
        "#Step 10: Split the training/validation dataset into a training set and validation set.\n",
        "* Use `train_test_split` from `sklearn.model_selection` to split `X_train_val` and `y_train_val` into `X_train`, `X_val`, `y_train`, and `y_val`.\n",
        "* Set the `test_size = 0.333` (this will be the size of the validation set) and `random_state = 42`.\n",
        "\n",
        "\n",
        "\n"
      ]
    },
    {
      "cell_type": "code",
      "metadata": {
        "id": "r5b9IU3zPxVv"
      },
      "source": [
        "#Step 10\n",
        "X_train_val, X_train, y_train_val,y_train =train_test_split(X, y, test_size = 0.3333, random_state = 42  )\n",
        "\n",
        "\n",
        "\n",
        "\n"
      ],
      "execution_count": 7,
      "outputs": []
    },
    {
      "cell_type": "markdown",
      "metadata": {
        "id": "dKYtHEvjZJNy"
      },
      "source": [
        "#Step 11: Instantiate and fit a logistic regression model.\n",
        "* Name the model `log_reg` and specify `random_state=0`.\n",
        "* Fit the data to `X_train` and `y_train` using `.fit()`.\n",
        "* Name the fitted model `log_reg_model`.\n",
        "\n",
        "\n",
        "\n"
      ]
    },
    {
      "cell_type": "code",
      "metadata": {
        "id": "minqGxBqiwLh",
        "colab": {
          "base_uri": "https://localhost:8080/"
        },
        "outputId": "ecc63c0c-6c38-4ede-943d-a979d7c351d5"
      },
      "source": [
        "#Step 11\n",
        "log_reg = LogisticRegression(random_state=0)\n",
        "log_reg_model = log_reg.fit(X_train, y_train)\n",
        "\n",
        "\n",
        "probs = log_reg_model.predict_proba(X_train)\n",
        "print(probs)"
      ],
      "execution_count": 8,
      "outputs": [
        {
          "output_type": "stream",
          "name": "stdout",
          "text": [
            "[[9.77990505e-01 2.20094954e-02]\n",
            " [5.65375111e-04 9.99434625e-01]\n",
            " [1.58331708e-01 8.41668292e-01]\n",
            " [9.75713998e-01 2.42860015e-02]\n",
            " [9.95936283e-01 4.06371708e-03]\n",
            " [7.12129983e-06 9.99992879e-01]\n",
            " [1.08387091e-06 9.99998916e-01]\n",
            " [5.50173594e-03 9.94498264e-01]\n",
            " [9.13900783e-01 8.60992168e-02]\n",
            " [8.46141378e-01 1.53858622e-01]\n",
            " [9.52389813e-01 4.76101867e-02]\n",
            " [2.44630146e-02 9.75536985e-01]\n",
            " [4.93307829e-01 5.06692171e-01]\n",
            " [3.88449519e-02 9.61155048e-01]\n",
            " [9.87433768e-01 1.25662318e-02]\n",
            " [1.31578572e-04 9.99868421e-01]\n",
            " [5.48832550e-01 4.51167450e-01]\n",
            " [9.99706066e-01 2.93933594e-04]\n",
            " [9.99998860e-01 1.14045560e-06]\n",
            " [1.31041222e-05 9.99986896e-01]\n",
            " [7.88771279e-01 2.11228721e-01]\n",
            " [9.89996593e-01 1.00034066e-02]\n",
            " [2.27721830e-06 9.99997723e-01]\n",
            " [9.99804585e-01 1.95414519e-04]\n",
            " [9.96362983e-01 3.63701716e-03]\n",
            " [8.79288557e-01 1.20711443e-01]\n",
            " [9.27427325e-01 7.25726752e-02]\n",
            " [9.99622900e-01 3.77100105e-04]\n",
            " [9.73069861e-01 2.69301388e-02]\n",
            " [6.79293862e-03 9.93207061e-01]\n",
            " [9.98237848e-01 1.76215188e-03]\n",
            " [9.92760297e-01 7.23970340e-03]\n",
            " [9.99860077e-01 1.39922804e-04]\n",
            " [8.83446726e-01 1.16553274e-01]\n",
            " [9.99674055e-01 3.25945418e-04]\n",
            " [9.97125306e-01 2.87469373e-03]\n",
            " [1.26105293e-01 8.73894707e-01]\n",
            " [9.96353362e-01 3.64663826e-03]\n",
            " [1.63111366e-03 9.98368886e-01]\n",
            " [5.54734339e-01 4.45265661e-01]\n",
            " [9.99401965e-01 5.98034714e-04]\n",
            " [3.34112574e-01 6.65887426e-01]\n",
            " [9.94967607e-01 5.03239309e-03]\n",
            " [9.94900788e-01 5.09921152e-03]\n",
            " [9.93883344e-01 6.11665582e-03]\n",
            " [9.97710109e-01 2.28989133e-03]\n",
            " [9.99917003e-01 8.29969937e-05]\n",
            " [9.99931062e-01 6.89384574e-05]\n",
            " [9.95288854e-01 4.71114613e-03]\n",
            " [9.52629693e-01 4.73703074e-02]\n",
            " [1.34442507e-02 9.86555749e-01]\n",
            " [4.11358371e-04 9.99588642e-01]\n",
            " [9.02180684e-01 9.78193155e-02]\n",
            " [7.94023788e-01 2.05976212e-01]\n",
            " [9.89891011e-01 1.01089887e-02]\n",
            " [9.50178387e-01 4.98216127e-02]\n",
            " [9.99527616e-01 4.72383880e-04]\n",
            " [1.72491177e-09 9.99999998e-01]\n",
            " [8.64805158e-01 1.35194842e-01]\n",
            " [9.97856663e-01 2.14333710e-03]\n",
            " [9.62210909e-01 3.77890907e-02]\n",
            " [1.03647743e-04 9.99896352e-01]\n",
            " [4.30298985e-06 9.99995697e-01]\n",
            " [6.97403471e-01 3.02596529e-01]\n",
            " [9.90483387e-01 9.51661284e-03]\n",
            " [9.76456657e-01 2.35433428e-02]\n",
            " [6.11520870e-02 9.38847913e-01]\n",
            " [2.74164595e-06 9.99997258e-01]\n",
            " [9.95213667e-01 4.78633321e-03]\n",
            " [9.47078140e-01 5.29218600e-02]\n",
            " [7.79800656e-01 2.20199344e-01]\n",
            " [1.02066016e-01 8.97933984e-01]\n",
            " [8.17251523e-01 1.82748477e-01]\n",
            " [2.44630146e-02 9.75536985e-01]\n",
            " [9.99996536e-01 3.46391544e-06]\n",
            " [8.94932761e-01 1.05067239e-01]\n",
            " [8.15662174e-01 1.84337826e-01]\n",
            " [7.41232797e-01 2.58767203e-01]\n",
            " [9.99250899e-01 7.49101311e-04]\n",
            " [9.97258916e-01 2.74108360e-03]\n",
            " [5.39690791e-02 9.46030921e-01]\n",
            " [9.98288415e-01 1.71158526e-03]\n",
            " [5.75582736e-01 4.24417264e-01]\n",
            " [9.78906878e-06 9.99990211e-01]\n",
            " [5.21906400e-03 9.94780936e-01]\n",
            " [1.12204617e-01 8.87795383e-01]\n",
            " [9.53928625e-01 4.60713746e-02]\n",
            " [1.91184958e-03 9.98088150e-01]\n",
            " [9.88043770e-01 1.19562299e-02]\n",
            " [9.65620762e-01 3.43792385e-02]\n",
            " [9.92547628e-01 7.45237206e-03]\n",
            " [8.91903173e-01 1.08096827e-01]\n",
            " [2.92514816e-01 7.07485184e-01]\n",
            " [9.98581701e-01 1.41829861e-03]\n",
            " [9.98014979e-01 1.98502093e-03]\n",
            " [9.99837252e-01 1.62747992e-04]\n",
            " [7.54030392e-05 9.99924597e-01]\n",
            " [7.34566571e-01 2.65433429e-01]\n",
            " [9.98504575e-01 1.49542514e-03]\n",
            " [1.09026441e-02 9.89097356e-01]\n",
            " [1.76808845e-01 8.23191155e-01]\n",
            " [9.99883469e-01 1.16531485e-04]\n",
            " [1.39154352e-03 9.98608456e-01]\n",
            " [2.62618943e-03 9.97373811e-01]\n",
            " [9.99114828e-01 8.85171923e-04]\n",
            " [9.94363281e-01 5.63671875e-03]\n",
            " [9.84059302e-01 1.59406983e-02]\n",
            " [2.95617104e-07 9.99999704e-01]\n",
            " [5.93609602e-01 4.06390398e-01]\n",
            " [5.78171536e-01 4.21828464e-01]\n",
            " [9.05406650e-02 9.09459335e-01]\n",
            " [9.96693000e-01 3.30700000e-03]\n",
            " [6.80358346e-01 3.19641654e-01]\n",
            " [2.28678015e-05 9.99977132e-01]\n",
            " [9.99939138e-01 6.08615894e-05]\n",
            " [3.57407558e-06 9.99996426e-01]\n",
            " [9.99932150e-01 6.78504716e-05]\n",
            " [9.99298911e-01 7.01089145e-04]\n",
            " [9.99719762e-01 2.80238425e-04]\n",
            " [4.12678511e-01 5.87321489e-01]\n",
            " [4.58272475e-01 5.41727525e-01]\n",
            " [9.97330449e-01 2.66955061e-03]\n",
            " [9.89457541e-01 1.05424592e-02]\n",
            " [9.07797701e-05 9.99909220e-01]\n",
            " [9.84347851e-01 1.56521491e-02]\n",
            " [1.21021506e-05 9.99987898e-01]\n",
            " [2.97477682e-01 7.02522318e-01]\n",
            " [9.99875483e-01 1.24516812e-04]\n",
            " [9.32768937e-01 6.72310627e-02]\n",
            " [1.80861876e-04 9.99819138e-01]\n",
            " [6.98877162e-04 9.99301123e-01]\n",
            " [1.07029702e-01 8.92970298e-01]\n",
            " [7.51768601e-01 2.48231399e-01]\n",
            " [9.96265623e-01 3.73437721e-03]\n",
            " [3.24160258e-01 6.75839742e-01]\n",
            " [1.32066113e-01 8.67933887e-01]\n",
            " [8.73838407e-01 1.26161593e-01]\n",
            " [9.99501902e-01 4.98097591e-04]\n",
            " [4.75429682e-01 5.24570318e-01]\n",
            " [5.59967498e-01 4.40032502e-01]\n",
            " [9.98484648e-01 1.51535241e-03]\n",
            " [1.03647743e-04 9.99896352e-01]\n",
            " [9.99614819e-01 3.85181447e-04]\n",
            " [9.72930548e-01 2.70694521e-02]\n",
            " [8.57190850e-01 1.42809150e-01]\n",
            " [9.51418709e-01 4.85812907e-02]\n",
            " [2.99737274e-03 9.97002627e-01]\n",
            " [2.98108337e-05 9.99970189e-01]\n",
            " [2.82199042e-01 7.17800958e-01]\n",
            " [8.65732476e-01 1.34267524e-01]\n",
            " [3.79085310e-01 6.20914690e-01]\n",
            " [9.89402080e-01 1.05979201e-02]\n",
            " [9.99990687e-01 9.31288839e-06]\n",
            " [9.11577916e-01 8.84220840e-02]\n",
            " [9.98107317e-01 1.89268256e-03]\n",
            " [2.45540239e-07 9.99999754e-01]\n",
            " [1.31578572e-04 9.99868421e-01]\n",
            " [9.99996591e-01 3.40924445e-06]\n",
            " [5.33691512e-01 4.66308488e-01]\n",
            " [9.98654855e-01 1.34514452e-03]\n",
            " [9.99898206e-01 1.01793909e-04]\n",
            " [9.99870432e-01 1.29568284e-04]\n",
            " [9.99772710e-01 2.27289846e-04]\n",
            " [9.72720264e-01 2.72797364e-02]\n",
            " [4.13964413e-01 5.86035587e-01]\n",
            " [9.99389152e-01 6.10847842e-04]\n",
            " [9.76334438e-01 2.36655618e-02]\n",
            " [5.46205015e-01 4.53794985e-01]\n",
            " [9.99716023e-01 2.83977346e-04]\n",
            " [6.92908428e-01 3.07091572e-01]\n",
            " [9.41063558e-01 5.89364420e-02]\n",
            " [8.73252621e-01 1.26747379e-01]\n",
            " [9.21696940e-01 7.83030602e-02]\n",
            " [3.21262609e-01 6.78737391e-01]\n",
            " [9.68084003e-01 3.19159967e-02]\n",
            " [8.98130010e-01 1.01869990e-01]\n",
            " [1.57261549e-02 9.84273845e-01]\n",
            " [3.67301557e-01 6.32698443e-01]\n",
            " [9.95226280e-01 4.77371961e-03]\n",
            " [6.00625966e-01 3.99374034e-01]\n",
            " [8.54244646e-01 1.45755354e-01]\n",
            " [9.97704043e-01 2.29595706e-03]\n",
            " [9.99972161e-01 2.78392223e-05]\n",
            " [7.09491439e-02 9.29050856e-01]\n",
            " [1.03987637e-03 9.98960124e-01]\n",
            " [7.98753059e-01 2.01246941e-01]\n",
            " [4.72785309e-01 5.27214691e-01]\n",
            " [8.91390839e-01 1.08609161e-01]\n",
            " [1.32066113e-01 8.67933887e-01]\n",
            " [9.67254517e-01 3.27454835e-02]]\n"
          ]
        }
      ]
    },
    {
      "cell_type": "code",
      "source": [
        "classes = log_reg_model.predict(X_train)\n",
        "print(classes)"
      ],
      "metadata": {
        "colab": {
          "base_uri": "https://localhost:8080/"
        },
        "id": "7M5xNV1icyIC",
        "outputId": "ea2b7ee2-a329-48c6-d511-29a8938d9745"
      },
      "execution_count": 9,
      "outputs": [
        {
          "output_type": "stream",
          "name": "stdout",
          "text": [
            "[0. 1. 1. 0. 0. 1. 1. 1. 0. 0. 0. 1. 1. 1. 0. 1. 0. 0. 0. 1. 0. 0. 1. 0.\n",
            " 0. 0. 0. 0. 0. 1. 0. 0. 0. 0. 0. 0. 1. 0. 1. 0. 0. 1. 0. 0. 0. 0. 0. 0.\n",
            " 0. 0. 1. 1. 0. 0. 0. 0. 0. 1. 0. 0. 0. 1. 1. 0. 0. 0. 1. 1. 0. 0. 0. 1.\n",
            " 0. 1. 0. 0. 0. 0. 0. 0. 1. 0. 0. 1. 1. 1. 0. 1. 0. 0. 0. 0. 1. 0. 0. 0.\n",
            " 1. 0. 0. 1. 1. 0. 1. 1. 0. 0. 0. 1. 0. 0. 1. 0. 0. 1. 0. 1. 0. 0. 0. 1.\n",
            " 1. 0. 0. 1. 0. 1. 1. 0. 0. 1. 1. 1. 0. 0. 1. 1. 0. 0. 1. 0. 0. 1. 0. 0.\n",
            " 0. 0. 1. 1. 1. 0. 1. 0. 0. 0. 0. 1. 1. 0. 0. 0. 0. 0. 0. 0. 1. 0. 0. 0.\n",
            " 0. 0. 0. 0. 0. 1. 0. 0. 1. 1. 0. 0. 0. 0. 0. 1. 1. 0. 1. 0. 1. 0.]\n"
          ]
        }
      ]
    },
    {
      "cell_type": "markdown",
      "metadata": {
        "id": "4eN_ZAG7JiHk"
      },
      "source": [
        "#Step 12: Calculate the model accuracy.\n",
        "* Calculate the model accuracy using `.score()`.\n",
        "* Name the results `accuracy` and print its value.\n",
        "\n",
        "\n",
        "\n"
      ]
    },
    {
      "cell_type": "code",
      "metadata": {
        "id": "ygykI_bsJYmB",
        "colab": {
          "base_uri": "https://localhost:8080/"
        },
        "outputId": "8b0d719c-b2e8-4231-b24f-b68669c16c66"
      },
      "source": [
        "#Step 12\n",
        "accuracy = log_reg_model.score(X_train, y_train)\n",
        "print(accuracy)\n"
      ],
      "execution_count": 10,
      "outputs": [
        {
          "output_type": "stream",
          "name": "stdout",
          "text": [
            "0.9\n"
          ]
        }
      ]
    },
    {
      "cell_type": "markdown",
      "metadata": {
        "id": "WWJ7hPx_J74Y"
      },
      "source": [
        "#Step 13: Calculate the predicted probability of each tumor being benign or malignant.\n",
        "* Calculate predicted probabilities for the training data using `.predict_proba()`.\n",
        "* Name the results `probs_`.\n",
        "* Convert `probs_` to a Panda's DataFrame and name the results `probs`.\n",
        "* Print the header of `probs`.\n",
        "\n",
        "\n",
        "\n"
      ]
    },
    {
      "cell_type": "code",
      "metadata": {
        "id": "oNrzz_rhJx8b",
        "colab": {
          "base_uri": "https://localhost:8080/",
          "height": 206
        },
        "outputId": "f2e540c2-5dd8-410d-d4f7-6d0cdaf08a1b"
      },
      "source": [
        "#Step 13\n",
        "\n",
        "log_reg_model = log_reg.fit(X_train, y_train)\n",
        "probs_ = log_reg_model.predict_proba(X_train)\n",
        "probs = pd.DataFrame(probs_)\n",
        "probs.head(5)\n",
        "\n"
      ],
      "execution_count": 15,
      "outputs": [
        {
          "output_type": "execute_result",
          "data": {
            "text/plain": [
              "          0         1\n",
              "0  0.977991  0.022009\n",
              "1  0.000565  0.999435\n",
              "2  0.158332  0.841668\n",
              "3  0.975714  0.024286\n",
              "4  0.995936  0.004064"
            ],
            "text/html": [
              "\n",
              "  <div id=\"df-d54d3d79-07c1-4d51-bd35-15b6665bdf4a\">\n",
              "    <div class=\"colab-df-container\">\n",
              "      <div>\n",
              "<style scoped>\n",
              "    .dataframe tbody tr th:only-of-type {\n",
              "        vertical-align: middle;\n",
              "    }\n",
              "\n",
              "    .dataframe tbody tr th {\n",
              "        vertical-align: top;\n",
              "    }\n",
              "\n",
              "    .dataframe thead th {\n",
              "        text-align: right;\n",
              "    }\n",
              "</style>\n",
              "<table border=\"1\" class=\"dataframe\">\n",
              "  <thead>\n",
              "    <tr style=\"text-align: right;\">\n",
              "      <th></th>\n",
              "      <th>0</th>\n",
              "      <th>1</th>\n",
              "    </tr>\n",
              "  </thead>\n",
              "  <tbody>\n",
              "    <tr>\n",
              "      <th>0</th>\n",
              "      <td>0.977991</td>\n",
              "      <td>0.022009</td>\n",
              "    </tr>\n",
              "    <tr>\n",
              "      <th>1</th>\n",
              "      <td>0.000565</td>\n",
              "      <td>0.999435</td>\n",
              "    </tr>\n",
              "    <tr>\n",
              "      <th>2</th>\n",
              "      <td>0.158332</td>\n",
              "      <td>0.841668</td>\n",
              "    </tr>\n",
              "    <tr>\n",
              "      <th>3</th>\n",
              "      <td>0.975714</td>\n",
              "      <td>0.024286</td>\n",
              "    </tr>\n",
              "    <tr>\n",
              "      <th>4</th>\n",
              "      <td>0.995936</td>\n",
              "      <td>0.004064</td>\n",
              "    </tr>\n",
              "  </tbody>\n",
              "</table>\n",
              "</div>\n",
              "      <button class=\"colab-df-convert\" onclick=\"convertToInteractive('df-d54d3d79-07c1-4d51-bd35-15b6665bdf4a')\"\n",
              "              title=\"Convert this dataframe to an interactive table.\"\n",
              "              style=\"display:none;\">\n",
              "        \n",
              "  <svg xmlns=\"http://www.w3.org/2000/svg\" height=\"24px\"viewBox=\"0 0 24 24\"\n",
              "       width=\"24px\">\n",
              "    <path d=\"M0 0h24v24H0V0z\" fill=\"none\"/>\n",
              "    <path d=\"M18.56 5.44l.94 2.06.94-2.06 2.06-.94-2.06-.94-.94-2.06-.94 2.06-2.06.94zm-11 1L8.5 8.5l.94-2.06 2.06-.94-2.06-.94L8.5 2.5l-.94 2.06-2.06.94zm10 10l.94 2.06.94-2.06 2.06-.94-2.06-.94-.94-2.06-.94 2.06-2.06.94z\"/><path d=\"M17.41 7.96l-1.37-1.37c-.4-.4-.92-.59-1.43-.59-.52 0-1.04.2-1.43.59L10.3 9.45l-7.72 7.72c-.78.78-.78 2.05 0 2.83L4 21.41c.39.39.9.59 1.41.59.51 0 1.02-.2 1.41-.59l7.78-7.78 2.81-2.81c.8-.78.8-2.07 0-2.86zM5.41 20L4 18.59l7.72-7.72 1.47 1.35L5.41 20z\"/>\n",
              "  </svg>\n",
              "      </button>\n",
              "      \n",
              "  <style>\n",
              "    .colab-df-container {\n",
              "      display:flex;\n",
              "      flex-wrap:wrap;\n",
              "      gap: 12px;\n",
              "    }\n",
              "\n",
              "    .colab-df-convert {\n",
              "      background-color: #E8F0FE;\n",
              "      border: none;\n",
              "      border-radius: 50%;\n",
              "      cursor: pointer;\n",
              "      display: none;\n",
              "      fill: #1967D2;\n",
              "      height: 32px;\n",
              "      padding: 0 0 0 0;\n",
              "      width: 32px;\n",
              "    }\n",
              "\n",
              "    .colab-df-convert:hover {\n",
              "      background-color: #E2EBFA;\n",
              "      box-shadow: 0px 1px 2px rgba(60, 64, 67, 0.3), 0px 1px 3px 1px rgba(60, 64, 67, 0.15);\n",
              "      fill: #174EA6;\n",
              "    }\n",
              "\n",
              "    [theme=dark] .colab-df-convert {\n",
              "      background-color: #3B4455;\n",
              "      fill: #D2E3FC;\n",
              "    }\n",
              "\n",
              "    [theme=dark] .colab-df-convert:hover {\n",
              "      background-color: #434B5C;\n",
              "      box-shadow: 0px 1px 3px 1px rgba(0, 0, 0, 0.15);\n",
              "      filter: drop-shadow(0px 1px 2px rgba(0, 0, 0, 0.3));\n",
              "      fill: #FFFFFF;\n",
              "    }\n",
              "  </style>\n",
              "\n",
              "      <script>\n",
              "        const buttonEl =\n",
              "          document.querySelector('#df-d54d3d79-07c1-4d51-bd35-15b6665bdf4a button.colab-df-convert');\n",
              "        buttonEl.style.display =\n",
              "          google.colab.kernel.accessAllowed ? 'block' : 'none';\n",
              "\n",
              "        async function convertToInteractive(key) {\n",
              "          const element = document.querySelector('#df-d54d3d79-07c1-4d51-bd35-15b6665bdf4a');\n",
              "          const dataTable =\n",
              "            await google.colab.kernel.invokeFunction('convertToInteractive',\n",
              "                                                     [key], {});\n",
              "          if (!dataTable) return;\n",
              "\n",
              "          const docLinkHtml = 'Like what you see? Visit the ' +\n",
              "            '<a target=\"_blank\" href=https://colab.research.google.com/notebooks/data_table.ipynb>data table notebook</a>'\n",
              "            + ' to learn more about interactive tables.';\n",
              "          element.innerHTML = '';\n",
              "          dataTable['output_type'] = 'display_data';\n",
              "          await google.colab.output.renderOutput(dataTable, element);\n",
              "          const docLink = document.createElement('div');\n",
              "          docLink.innerHTML = docLinkHtml;\n",
              "          element.appendChild(docLink);\n",
              "        }\n",
              "      </script>\n",
              "    </div>\n",
              "  </div>\n",
              "  "
            ]
          },
          "metadata": {},
          "execution_count": 15
        }
      ]
    },
    {
      "cell_type": "markdown",
      "metadata": {
        "id": "LbXFtV2gL9PT"
      },
      "source": [
        "#Step 14: Calculate the predicted class of each tumor being benign or malignant.\n",
        "* Calculate predicted probabilities for the training data using `.predict()`.\n",
        "* Name the results `classes_`.\n",
        "* Convert `classes_` to a Panda's DataFrame and name the results `classes`.\n",
        "* Print the header of `classes`.\n",
        "\n",
        "\n",
        "\n"
      ]
    },
    {
      "cell_type": "code",
      "metadata": {
        "id": "D9saFK0eKOE2",
        "colab": {
          "base_uri": "https://localhost:8080/",
          "height": 206
        },
        "outputId": "298bbaf0-12be-44a5-b041-701f39c494ed"
      },
      "source": [
        "#Step 14\n",
        "log_reg_model = log_reg.fit(X_train, y_train)\n",
        "classes_ = log_reg_model.predict(X_train)\n",
        "classes = pd.DataFrame(classes_)\n",
        "classes.head(5)\n",
        "\n",
        "\n"
      ],
      "execution_count": 16,
      "outputs": [
        {
          "output_type": "execute_result",
          "data": {
            "text/plain": [
              "     0\n",
              "0  0.0\n",
              "1  1.0\n",
              "2  1.0\n",
              "3  0.0\n",
              "4  0.0"
            ],
            "text/html": [
              "\n",
              "  <div id=\"df-0d731baf-f20d-4fba-8d00-2314c42e544a\">\n",
              "    <div class=\"colab-df-container\">\n",
              "      <div>\n",
              "<style scoped>\n",
              "    .dataframe tbody tr th:only-of-type {\n",
              "        vertical-align: middle;\n",
              "    }\n",
              "\n",
              "    .dataframe tbody tr th {\n",
              "        vertical-align: top;\n",
              "    }\n",
              "\n",
              "    .dataframe thead th {\n",
              "        text-align: right;\n",
              "    }\n",
              "</style>\n",
              "<table border=\"1\" class=\"dataframe\">\n",
              "  <thead>\n",
              "    <tr style=\"text-align: right;\">\n",
              "      <th></th>\n",
              "      <th>0</th>\n",
              "    </tr>\n",
              "  </thead>\n",
              "  <tbody>\n",
              "    <tr>\n",
              "      <th>0</th>\n",
              "      <td>0.0</td>\n",
              "    </tr>\n",
              "    <tr>\n",
              "      <th>1</th>\n",
              "      <td>1.0</td>\n",
              "    </tr>\n",
              "    <tr>\n",
              "      <th>2</th>\n",
              "      <td>1.0</td>\n",
              "    </tr>\n",
              "    <tr>\n",
              "      <th>3</th>\n",
              "      <td>0.0</td>\n",
              "    </tr>\n",
              "    <tr>\n",
              "      <th>4</th>\n",
              "      <td>0.0</td>\n",
              "    </tr>\n",
              "  </tbody>\n",
              "</table>\n",
              "</div>\n",
              "      <button class=\"colab-df-convert\" onclick=\"convertToInteractive('df-0d731baf-f20d-4fba-8d00-2314c42e544a')\"\n",
              "              title=\"Convert this dataframe to an interactive table.\"\n",
              "              style=\"display:none;\">\n",
              "        \n",
              "  <svg xmlns=\"http://www.w3.org/2000/svg\" height=\"24px\"viewBox=\"0 0 24 24\"\n",
              "       width=\"24px\">\n",
              "    <path d=\"M0 0h24v24H0V0z\" fill=\"none\"/>\n",
              "    <path d=\"M18.56 5.44l.94 2.06.94-2.06 2.06-.94-2.06-.94-.94-2.06-.94 2.06-2.06.94zm-11 1L8.5 8.5l.94-2.06 2.06-.94-2.06-.94L8.5 2.5l-.94 2.06-2.06.94zm10 10l.94 2.06.94-2.06 2.06-.94-2.06-.94-.94-2.06-.94 2.06-2.06.94z\"/><path d=\"M17.41 7.96l-1.37-1.37c-.4-.4-.92-.59-1.43-.59-.52 0-1.04.2-1.43.59L10.3 9.45l-7.72 7.72c-.78.78-.78 2.05 0 2.83L4 21.41c.39.39.9.59 1.41.59.51 0 1.02-.2 1.41-.59l7.78-7.78 2.81-2.81c.8-.78.8-2.07 0-2.86zM5.41 20L4 18.59l7.72-7.72 1.47 1.35L5.41 20z\"/>\n",
              "  </svg>\n",
              "      </button>\n",
              "      \n",
              "  <style>\n",
              "    .colab-df-container {\n",
              "      display:flex;\n",
              "      flex-wrap:wrap;\n",
              "      gap: 12px;\n",
              "    }\n",
              "\n",
              "    .colab-df-convert {\n",
              "      background-color: #E8F0FE;\n",
              "      border: none;\n",
              "      border-radius: 50%;\n",
              "      cursor: pointer;\n",
              "      display: none;\n",
              "      fill: #1967D2;\n",
              "      height: 32px;\n",
              "      padding: 0 0 0 0;\n",
              "      width: 32px;\n",
              "    }\n",
              "\n",
              "    .colab-df-convert:hover {\n",
              "      background-color: #E2EBFA;\n",
              "      box-shadow: 0px 1px 2px rgba(60, 64, 67, 0.3), 0px 1px 3px 1px rgba(60, 64, 67, 0.15);\n",
              "      fill: #174EA6;\n",
              "    }\n",
              "\n",
              "    [theme=dark] .colab-df-convert {\n",
              "      background-color: #3B4455;\n",
              "      fill: #D2E3FC;\n",
              "    }\n",
              "\n",
              "    [theme=dark] .colab-df-convert:hover {\n",
              "      background-color: #434B5C;\n",
              "      box-shadow: 0px 1px 3px 1px rgba(0, 0, 0, 0.15);\n",
              "      filter: drop-shadow(0px 1px 2px rgba(0, 0, 0, 0.3));\n",
              "      fill: #FFFFFF;\n",
              "    }\n",
              "  </style>\n",
              "\n",
              "      <script>\n",
              "        const buttonEl =\n",
              "          document.querySelector('#df-0d731baf-f20d-4fba-8d00-2314c42e544a button.colab-df-convert');\n",
              "        buttonEl.style.display =\n",
              "          google.colab.kernel.accessAllowed ? 'block' : 'none';\n",
              "\n",
              "        async function convertToInteractive(key) {\n",
              "          const element = document.querySelector('#df-0d731baf-f20d-4fba-8d00-2314c42e544a');\n",
              "          const dataTable =\n",
              "            await google.colab.kernel.invokeFunction('convertToInteractive',\n",
              "                                                     [key], {});\n",
              "          if (!dataTable) return;\n",
              "\n",
              "          const docLinkHtml = 'Like what you see? Visit the ' +\n",
              "            '<a target=\"_blank\" href=https://colab.research.google.com/notebooks/data_table.ipynb>data table notebook</a>'\n",
              "            + ' to learn more about interactive tables.';\n",
              "          element.innerHTML = '';\n",
              "          dataTable['output_type'] = 'display_data';\n",
              "          await google.colab.output.renderOutput(dataTable, element);\n",
              "          const docLink = document.createElement('div');\n",
              "          docLink.innerHTML = docLinkHtml;\n",
              "          element.appendChild(docLink);\n",
              "        }\n",
              "      </script>\n",
              "    </div>\n",
              "  </div>\n",
              "  "
            ]
          },
          "metadata": {},
          "execution_count": 16
        }
      ]
    },
    {
      "cell_type": "markdown",
      "metadata": {
        "id": "MCQsMWXYMdlZ"
      },
      "source": [
        "#Step 15: Compare the predicted probabilities of a tumor being benign or malignant with its predicted classificiation.\n",
        "* Run the code block below to concatenate the X_train matrix with the predictied probabilities and classes of each tumor.\n",
        "* The code will generate a plot of the predicted probability of a tumor being malignant against the mean perimeter size.  The plot is color coded by the model prediction for whether the tumor is benign or malignant.\n",
        "\n",
        "\n",
        "\n"
      ]
    },
    {
      "cell_type": "code",
      "metadata": {
        "id": "72S6CY_VMEdj",
        "colab": {
          "base_uri": "https://localhost:8080/",
          "height": 441
        },
        "outputId": "59b2113f-4bde-493e-b684-c54973d10d17"
      },
      "source": [
        "#Step 15\n",
        "\n",
        "X_train.reset_index(inplace=True)\n",
        "\n",
        "predicted = pd.concat([X_train,probs[1], classes],axis=1)\n",
        "\n",
        "predicted.rename({1: 'prob_malignant', 0:'classification'}, axis=1, inplace=True)\n",
        "\n",
        "\n",
        "sns.lmplot('perimeter_mean', 'prob_malignant', data=predicted, hue ='classification', fit_reg=False)\n",
        "\n",
        "\n"
      ],
      "execution_count": 17,
      "outputs": [
        {
          "output_type": "stream",
          "name": "stderr",
          "text": [
            "/usr/local/lib/python3.7/dist-packages/seaborn/_decorators.py:43: FutureWarning: Pass the following variables as keyword args: x, y. From version 0.12, the only valid positional argument will be `data`, and passing other arguments without an explicit keyword will result in an error or misinterpretation.\n",
            "  FutureWarning\n"
          ]
        },
        {
          "output_type": "execute_result",
          "data": {
            "text/plain": [
              "<seaborn.axisgrid.FacetGrid at 0x7fa647f53850>"
            ]
          },
          "metadata": {},
          "execution_count": 17
        },
        {
          "output_type": "display_data",
          "data": {
            "text/plain": [
              "<Figure size 433.125x360 with 1 Axes>"
            ],
            "image/png": "[encoded data removed]"
          },
          "metadata": {
            "needs_background": "light"
          }
        }
      ]
    }
  ]
}